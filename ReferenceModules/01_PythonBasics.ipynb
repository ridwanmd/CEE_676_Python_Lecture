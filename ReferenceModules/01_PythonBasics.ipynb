{
  "nbformat": 4,
  "nbformat_minor": 0,
  "metadata": {
    "colab": {
      "provenance": [],
      "include_colab_link": true
    },
    "kernelspec": {
      "name": "python3",
      "display_name": "Python 3"
    },
    "language_info": {
      "name": "python"
    }
  },
  "cells": [
    {
      "cell_type": "markdown",
      "metadata": {
        "id": "view-in-github",
        "colab_type": "text"
      },
      "source": [
        "<a href=\"https://colab.research.google.com/github/ridwanmd/CEE_676_Python_Lecture/blob/main/ReferenceModules/01_PythonBasics.ipynb\" target=\"_parent\"><img src=\"https://colab.research.google.com/assets/colab-badge.svg\" alt=\"Open In Colab\"/></a>"
      ]
    },
    {
      "cell_type": "markdown",
      "source": [
        "## Credits\n",
        "\n",
        "This repository is based on **CEE_676_Python_Lecture** by [ArlexMR](https://github.com/ArlexMR).Full credit goes to ArlexMR for the original materials.I have only made minor modifications for my use.\n",
        "\n",
        "# I. Introduction\n",
        "\n",
        "**What is Python and why use notebooks**?\n",
        "\n",
        "Python is a popular <font color=\"#0b3d91\">**programming language**</font>.\n",
        "It was created by Guido van Rossum, and released in 1991.\n",
        "\n",
        "\n",
        "\n",
        "![Picture1.jpg](data:image/jpeg;base64,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)\n",
        "\n",
        "It is used for:\n",
        "•\tweb development (server-side),\n",
        "•\tsoftware development,\n",
        "•\tmathematics,\n",
        "•\tsystem scripting.\n",
        "•\tscientiﬁc computing and data analysis\n",
        "•\tPython has a <font color=\"#0b3d91\">**simple syntax similar to the English language**</font>.\n",
        "•\tThis syntax that allows developers to write programs with fewer lines than some other programming languages.\n",
        "\n",
        "\n",
        "**Why Python for Hydrology?**\n",
        "Many of the analyses conducted in this notebook can be completed in Excel. You will see, however, that several functions that have already been written in python are very powerful, and can directly be applied to data science in hydrology. While there is a learning curve, there is also a large amount of tools that can be accessed via python and R that aren't accessible through excel.\n",
        "\n",
        "These notebooks are designed to give you a very basic overview of computer coding in python to conduct analyses of hydrologic data.\n",
        "\n",
        "A notebook is an interactive, \"live\" document, where you can describe the code you are creating, run the code, and analyze the outputs.\n",
        "\n",
        "Notebooks, including Google Collab, Jupyter Notebooks, and RNotebooks, are becoming increasingly popular in engineering and data science for creating reproduceable and efficicent code.\n",
        "\n",
        "\n",
        "\n",
        "\n",
        "# Notebook 1\n",
        "\n",
        "This notebook goes over the very basic operations that can be completed in python."
      ],
      "metadata": {
        "id": "a0JUMsPn4-lC"
      }
    },
    {
      "cell_type": "markdown",
      "source": [
        "# II. Variables and assignment"
      ],
      "metadata": {
        "id": "ZXm1HaQyvOMI"
      }
    },
    {
      "cell_type": "markdown",
      "source": [
        "Variables are essentially names that **refer to values**.\n",
        "In Python,\n",
        "variables are defined using the symbol `=`  \n"
      ],
      "metadata": {
        "id": "j9bZF7H_wCw7"
      }
    },
    {
      "cell_type": "code",
      "execution_count": 45,
      "metadata": {
        "id": "epiwzuMPvGnA"
      },
      "outputs": [],
      "source": [
        "my_variable = 1"
      ]
    },
    {
      "cell_type": "markdown",
      "source": [
        "you can show the content* of a variable just by writing its name:\n",
        "\n",
        "**Actually variables are **not containers but pointers** that **point to a speciﬁc piece of data** in your computer's memory. See below"
      ],
      "metadata": {
        "id": "qygWjk4Wxq1F"
      }
    },
    {
      "cell_type": "code",
      "source": [
        "my_variable"
      ],
      "metadata": {
        "id": "k904l4cow19a",
        "colab": {
          "base_uri": "https://localhost:8080/"
        },
        "outputId": "17ce0024-7a40-48d0-f5f9-dcebbb2ae715"
      },
      "execution_count": 46,
      "outputs": [
        {
          "output_type": "execute_result",
          "data": {
            "text/plain": [
              "1"
            ]
          },
          "metadata": {},
          "execution_count": 46
        }
      ]
    },
    {
      "cell_type": "markdown",
      "source": [
        "but it only works if it's placed in the last line:"
      ],
      "metadata": {
        "id": "m9HWp63yyRYC"
      }
    },
    {
      "cell_type": "code",
      "source": [
        "my_variable\n",
        "another_variable = 2\n"
      ],
      "metadata": {
        "id": "uV1N2lqbya2I"
      },
      "execution_count": 47,
      "outputs": []
    },
    {
      "cell_type": "markdown",
      "source": [
        "A prefered and more versatile way for showing information is using the *function* `print()`\n",
        "\n",
        "A *function* is a process which takes in a variable, and outputs something new."
      ],
      "metadata": {
        "id": "kEhsxfAoyyNW"
      }
    },
    {
      "cell_type": "code",
      "source": [
        "print(my_variable)\n",
        "latest_variable = 3\n",
        "print(latest_variable)\n"
      ],
      "metadata": {
        "id": "3a6BUT5DxgiZ",
        "colab": {
          "base_uri": "https://localhost:8080/"
        },
        "outputId": "82462a32-7cc9-4b80-96be-06e7f53a7bf1"
      },
      "execution_count": 48,
      "outputs": [
        {
          "output_type": "stream",
          "name": "stdout",
          "text": [
            "1\n",
            "3\n"
          ]
        }
      ]
    },
    {
      "cell_type": "markdown",
      "source": [
        "# Updating Variables and Comments"
      ],
      "metadata": {
        "id": "R5cs4ifl7s2E"
      }
    },
    {
      "cell_type": "markdown",
      "source": [
        "Often times computer programs will write in **short hand notations**. There are multiple reasons for this (i.e., iterating through a list, compacting code, etc).\n",
        "\n",
        "Using a \"#\" we can write in comments, basically telling the user what the lines of code are doing."
      ],
      "metadata": {
        "id": "9senfab37MJX"
      }
    },
    {
      "cell_type": "code",
      "source": [
        "# Updating a variable\n",
        "x = 10\n",
        "x += 5 # equivalent to x = x + 5\n",
        "x"
      ],
      "metadata": {
        "id": "WHQuHHZ-ciVC",
        "colab": {
          "base_uri": "https://localhost:8080/"
        },
        "outputId": "d2ab4103-08fc-4314-c870-5dcb1c857bf1"
      },
      "execution_count": 49,
      "outputs": [
        {
          "output_type": "execute_result",
          "data": {
            "text/plain": [
              "15"
            ]
          },
          "metadata": {},
          "execution_count": 49
        }
      ]
    },
    {
      "cell_type": "code",
      "source": [
        "x = 10\n",
        "x *= 3 # x = x*3\n",
        "x"
      ],
      "metadata": {
        "id": "pfCIfdBqdJHj",
        "colab": {
          "base_uri": "https://localhost:8080/"
        },
        "outputId": "931cec4d-ddff-4cdd-94df-cda9cece36a4"
      },
      "execution_count": 50,
      "outputs": [
        {
          "output_type": "execute_result",
          "data": {
            "text/plain": [
              "30"
            ]
          },
          "metadata": {},
          "execution_count": 50
        }
      ]
    },
    {
      "cell_type": "markdown",
      "source": [
        "# III. Data Types\n",
        "\n",
        " In Python, every piece of data has a type. A data type\n",
        "tells Python what kind of value a variable is holding (e.g., text, numbers, numbers with decimals, TRUE/FALSE statements, etc.)\n",
        "\n",
        "Category | Data types\n",
        "--|--\n",
        "Text Type: | str\n",
        "Numeric Types: |\tint, float, complex\n",
        "Boolean Type:\t| bool\n",
        "Sequence Types: |\tlist, tuple, range\n",
        "Mapping Type:\t| dict\n",
        "Set Types:\t| set, frozenset\n",
        "Binary Types:\t| bytes, bytearray, memoryview\n",
        "None Type:\t| NoneType\n",
        "\n",
        "Python has several built-in data types. We can always check the type of any variable using the `type()` function."
      ],
      "metadata": {
        "id": "mKVUeEhKz_Ax"
      }
    },
    {
      "cell_type": "markdown",
      "source": [
        "## **A**. Strings, numeric and boolean"
      ],
      "metadata": {
        "id": "OoLdKeqZYZsA"
      }
    },
    {
      "cell_type": "markdown",
      "source": [
        "First, Strings, or `str`. These are **used for text**. You can deﬁne a string using either single quotes ( 'Hello World!' ) or double quotes ( \"Goodbye world!\" ). Both work identically."
      ],
      "metadata": {
        "id": "9gFA5Jyr_ium"
      }
    },
    {
      "cell_type": "code",
      "source": [
        "# Text type variables\n",
        "my_text = 'Hello World!' # string\n",
        "another_text = \"Goodbye world!\" # string (double quotes)\n",
        "\n",
        "print('Text variables: \\n') # newline character. It tells Python: “after printing this text, move the cursor to the next line.”\n",
        "print('my_text is a:', type(my_text))\n",
        "print('another_text is a:',type(another_text))\n",
        "\n"
      ],
      "metadata": {
        "id": "0CYJwGR4zD54",
        "colab": {
          "base_uri": "https://localhost:8080/"
        },
        "outputId": "a781d6d9-29d9-4870-c356-06c4499800b0"
      },
      "execution_count": 51,
      "outputs": [
        {
          "output_type": "stream",
          "name": "stdout",
          "text": [
            "Text variables: \n",
            "\n",
            "my_text is a: <class 'str'>\n",
            "another_text is a: <class 'str'>\n"
          ]
        }
      ]
    },
    {
      "cell_type": "markdown",
      "source": [
        "Next, Numeric Types. We have `int` for integers (whole numbers like 5), `ﬂoat` for ﬂoating-point numbers (numbers with decimals like 5.0), and `complex` for complex numbers (like 3j + 5 )."
      ],
      "metadata": {
        "id": "AvmO1s_BCX3G"
      }
    },
    {
      "cell_type": "code",
      "source": [
        "# Numeric Type Variables\n",
        "my_integer = 5\n",
        "my_float = 5.\n",
        "my_complex = 3j +5\n",
        "\n",
        "print('Numeric type variables: \\n')\n",
        "\n",
        "print('my_integer is a', type(my_integer), )\n",
        "\n",
        "print('my_float is a', type(my_float))\n",
        "\n",
        "print('my_complex is a', type(my_complex), 'equal to:', my_complex)"
      ],
      "metadata": {
        "id": "cK5I3ZxF7X9M",
        "colab": {
          "base_uri": "https://localhost:8080/"
        },
        "outputId": "db33dca9-5c99-4aff-a3ad-fa72acec2b80"
      },
      "execution_count": 52,
      "outputs": [
        {
          "output_type": "stream",
          "name": "stdout",
          "text": [
            "Numeric type variables: \n",
            "\n",
            "my_integer is a <class 'int'>\n",
            "my_float is a <class 'float'>\n",
            "my_complex is a <class 'complex'> equal to: (5+3j)\n"
          ]
        }
      ]
    },
    {
      "cell_type": "code",
      "source": [
        "# Boolean data types\n",
        "my_true_bool = True\n",
        "my_false_bool = False\n",
        "\n",
        "print('Boolean type variables: \\n')\n",
        "print('my_true_bool is a', type(my_true_bool))\n",
        "print('my_false_bool is a', type(my_false_bool))\n",
        "\n"
      ],
      "metadata": {
        "id": "6eCcQkea8Vgp",
        "colab": {
          "base_uri": "https://localhost:8080/"
        },
        "outputId": "32ffe80a-e79b-4c57-e335-433af3844236"
      },
      "execution_count": 53,
      "outputs": [
        {
          "output_type": "stream",
          "name": "stdout",
          "text": [
            "Boolean type variables: \n",
            "\n",
            "my_true_bool is a <class 'bool'>\n",
            "my_false_bool is a <class 'bool'>\n"
          ]
        }
      ]
    },
    {
      "cell_type": "markdown",
      "source": [
        "Finally, Boolean Types, or `bool` . These represent truth values: True or False . Notice the capital 'T' and 'F' ‒Python is case-sensitive."
      ],
      "metadata": {
        "id": "OzsLrT6JDgi-"
      }
    },
    {
      "cell_type": "markdown",
      "source": [
        "## **B**. Sequence Data Types"
      ],
      "metadata": {
        "id": "qOvGfj3QZJwk"
      }
    },
    {
      "cell_type": "markdown",
      "source": [
        "Sequence data types, which are collections of items. The most common ones are lists, tuples, and ranges"
      ],
      "metadata": {
        "id": "6drdh44YD3lj"
      }
    },
    {
      "cell_type": "markdown",
      "source": [
        "Lists are ordered collections of items, enclosed in square brackets `[]` . They are incredibly versatile because they are mutable, meaning you can change, add, or remove elements after the list has been created.\n",
        "\n",
        "Tuples are also ordered collections, but they are enclosed in parentheses `()` . The key diﬀerence is that tuples are immutable, meaning once a tuple is created, its contents cannot be changed.\n",
        "\n",
        "Ranges are immutable sequences of numbers, often used in loops. They are created using the range `()` function."
      ],
      "metadata": {
        "id": "J0IDtBvkmiuM"
      }
    },
    {
      "cell_type": "code",
      "source": [
        "# Sequence data types:\n",
        "\n",
        "my_list = [1, 2, 3, 4, 5]\n",
        "my_tuple = (1, 2, 3, 4, 5)\n",
        "my_range = range(1,6)\n",
        "\n",
        "print('my_list is a', type(my_list), 'equal to:', my_list )\n",
        "print('my_tuple is a', type(my_tuple), 'equal to:', my_tuple )\n",
        "print('my_range is a', type(my_range), 'equal to:', my_range )"
      ],
      "metadata": {
        "id": "bZbD_cnb4TF5",
        "colab": {
          "base_uri": "https://localhost:8080/"
        },
        "outputId": "3ca8d77c-183d-46eb-d89c-a72a6fb2a433"
      },
      "execution_count": 54,
      "outputs": [
        {
          "output_type": "stream",
          "name": "stdout",
          "text": [
            "my_list is a <class 'list'> equal to: [1, 2, 3, 4, 5]\n",
            "my_tuple is a <class 'tuple'> equal to: (1, 2, 3, 4, 5)\n",
            "my_range is a <class 'range'> equal to: range(1, 6)\n"
          ]
        }
      ]
    },
    {
      "cell_type": "markdown",
      "source": [
        "Elements can be accessed using `[ ]`:  \n",
        "**IMPORTANT:** Python uses **zero-based indexing** which means that the first element has index `0`, the second element has index `1`, and so on. You can also use negative indexing: `-1` refers to the last element, `-2` to the second to last, and so forth."
      ],
      "metadata": {
        "id": "oONvFcJG-4lm"
      }
    },
    {
      "cell_type": "code",
      "source": [
        "first_element = my_list[0]\n",
        "print('First element:',first_element) #list\n",
        "\n",
        "print('Second element:',my_tuple[1]) # tuple\n",
        "print('Third element:',my_range[2]) # range\n",
        "\n",
        "print('last element:', my_list[-1]) # list\n",
        "print('penultimate',my_tuple[-2]) # tuple\n",
        "print('Last element in range',my_range[-1]) # range"
      ],
      "metadata": {
        "id": "eceUiTJj_LPO",
        "colab": {
          "base_uri": "https://localhost:8080/"
        },
        "outputId": "0db732b8-edf8-4a70-c25a-69886c4fc2b3"
      },
      "execution_count": 55,
      "outputs": [
        {
          "output_type": "stream",
          "name": "stdout",
          "text": [
            "First element: 1\n",
            "Second element: 2\n",
            "Third element: 3\n",
            "last element: 5\n",
            "penultimate 4\n",
            "Last element in range 5\n"
          ]
        }
      ]
    },
    {
      "cell_type": "markdown",
      "source": [
        "### Slicing sequences\n",
        "Slicing is used for extracting a portion of a sequence:\n",
        "```python  \n",
        "my_list[start:stop]\n",
        "```\n",
        "This will extract a sequence corresponding to the interval: `[start, stop)` being `start` and `stop` indexes  \n",
        "\n",
        "Another function, *range* will automatically create an array of numbers between a specified start and stop at a specified interval."
      ],
      "metadata": {
        "id": "5UWJno3LgbVx"
      }
    },
    {
      "cell_type": "code",
      "source": [
        "a_range = range(0, 100, 10) # start, stop, step\n",
        "my_list = list(a_range)\n",
        "print(my_list)\n",
        "\n",
        "my_list[2:4] # Take elements at index 2 and 3"
      ],
      "metadata": {
        "id": "vCqjIz4TjQMP",
        "colab": {
          "base_uri": "https://localhost:8080/"
        },
        "outputId": "c5139ead-79d8-4d96-9568-c28249ea9a48"
      },
      "execution_count": 56,
      "outputs": [
        {
          "output_type": "stream",
          "name": "stdout",
          "text": [
            "[0, 10, 20, 30, 40, 50, 60, 70, 80, 90]\n"
          ]
        },
        {
          "output_type": "execute_result",
          "data": {
            "text/plain": [
              "[20, 30]"
            ]
          },
          "metadata": {},
          "execution_count": 56
        }
      ]
    },
    {
      "cell_type": "markdown",
      "source": [
        "\n",
        "If `start/stop` are omitted the slicing will go from/to the first/last element\n"
      ],
      "metadata": {
        "id": "UazPPKVAhCs2"
      }
    },
    {
      "cell_type": "code",
      "source": [
        "print(my_list)\n",
        "my_list[:4]"
      ],
      "metadata": {
        "id": "eFO-2ZCpl2i4",
        "colab": {
          "base_uri": "https://localhost:8080/"
        },
        "outputId": "2398d8b1-81ee-4ac7-8b7c-71e4356f5dcf"
      },
      "execution_count": 57,
      "outputs": [
        {
          "output_type": "stream",
          "name": "stdout",
          "text": [
            "[0, 10, 20, 30, 40, 50, 60, 70, 80, 90]\n"
          ]
        },
        {
          "output_type": "execute_result",
          "data": {
            "text/plain": [
              "[0, 10, 20, 30]"
            ]
          },
          "metadata": {},
          "execution_count": 57
        }
      ]
    },
    {
      "cell_type": "code",
      "source": [
        "print(my_list)\n",
        "my_list[4:]"
      ],
      "metadata": {
        "id": "MlHv2fo0mzfX",
        "colab": {
          "base_uri": "https://localhost:8080/"
        },
        "outputId": "0ea3757f-26b0-4f84-d5a4-428d4baf1f99"
      },
      "execution_count": 58,
      "outputs": [
        {
          "output_type": "stream",
          "name": "stdout",
          "text": [
            "[0, 10, 20, 30, 40, 50, 60, 70, 80, 90]\n"
          ]
        },
        {
          "output_type": "execute_result",
          "data": {
            "text/plain": [
              "[40, 50, 60, 70, 80, 90]"
            ]
          },
          "metadata": {},
          "execution_count": 58
        }
      ]
    },
    {
      "cell_type": "code",
      "source": [
        "print(my_list)\n",
        "my_list[4:-1]"
      ],
      "metadata": {
        "id": "SK-GOPi0BRUN",
        "colab": {
          "base_uri": "https://localhost:8080/"
        },
        "outputId": "59605f3a-1a62-4c8c-8117-d231ce8cf1f1"
      },
      "execution_count": 59,
      "outputs": [
        {
          "output_type": "stream",
          "name": "stdout",
          "text": [
            "[0, 10, 20, 30, 40, 50, 60, 70, 80, 90]\n"
          ]
        },
        {
          "output_type": "execute_result",
          "data": {
            "text/plain": [
              "[40, 50, 60, 70, 80]"
            ]
          },
          "metadata": {},
          "execution_count": 59
        }
      ]
    },
    {
      "cell_type": "markdown",
      "source": [
        "A `step` can also be included within your slice:  \n",
        "\n",
        "```python\n",
        "my_list[start:stop:step]\n",
        "```"
      ],
      "metadata": {
        "id": "XGlWh7G-hIcR"
      }
    },
    {
      "cell_type": "code",
      "source": [
        "print(my_list)\n",
        "my_list[2:6:2]"
      ],
      "metadata": {
        "id": "Ie8alD61m3-N",
        "colab": {
          "base_uri": "https://localhost:8080/"
        },
        "outputId": "703de51d-0b6b-4e29-aa3b-06ecf7a54531"
      },
      "execution_count": 60,
      "outputs": [
        {
          "output_type": "stream",
          "name": "stdout",
          "text": [
            "[0, 10, 20, 30, 40, 50, 60, 70, 80, 90]\n"
          ]
        },
        {
          "output_type": "execute_result",
          "data": {
            "text/plain": [
              "[20, 40]"
            ]
          },
          "metadata": {},
          "execution_count": 60
        }
      ]
    },
    {
      "cell_type": "markdown",
      "source": [
        "This is a nice way to invert the order of elements"
      ],
      "metadata": {
        "id": "KoCOkmIs_TiJ"
      }
    },
    {
      "cell_type": "code",
      "source": [
        "print(my_list)\n",
        "my_list[::-1]"
      ],
      "metadata": {
        "id": "ozqxh5VjoQb1",
        "colab": {
          "base_uri": "https://localhost:8080/"
        },
        "outputId": "cb8d92dc-b4fe-47bb-c6b8-f7cfdddf4f3b"
      },
      "execution_count": 61,
      "outputs": [
        {
          "output_type": "stream",
          "name": "stdout",
          "text": [
            "[0, 10, 20, 30, 40, 50, 60, 70, 80, 90]\n"
          ]
        },
        {
          "output_type": "execute_result",
          "data": {
            "text/plain": [
              "[90, 80, 70, 60, 50, 40, 30, 20, 10, 0]"
            ]
          },
          "metadata": {},
          "execution_count": 61
        }
      ]
    },
    {
      "cell_type": "markdown",
      "source": [
        "Out-of-range **slicing** are permitted"
      ],
      "metadata": {
        "id": "Z4P6Ipkjjd6r"
      }
    },
    {
      "cell_type": "code",
      "source": [
        "len(my_list) # used to find out the length of the list, i.e., how many items it contains"
      ],
      "metadata": {
        "id": "icYpMHRhJQtb",
        "colab": {
          "base_uri": "https://localhost:8080/"
        },
        "outputId": "910221bf-35d8-4a7d-a980-b9b15c10d772"
      },
      "execution_count": 62,
      "outputs": [
        {
          "output_type": "execute_result",
          "data": {
            "text/plain": [
              "10"
            ]
          },
          "metadata": {},
          "execution_count": 62
        }
      ]
    },
    {
      "cell_type": "code",
      "source": [
        "print(my_list)\n",
        "my_list[9:20]"
      ],
      "metadata": {
        "id": "99jFJlbXs6r6",
        "colab": {
          "base_uri": "https://localhost:8080/"
        },
        "outputId": "ed58f527-ae50-4089-c71b-76a2e2314fbb"
      },
      "execution_count": 63,
      "outputs": [
        {
          "output_type": "stream",
          "name": "stdout",
          "text": [
            "[0, 10, 20, 30, 40, 50, 60, 70, 80, 90]\n"
          ]
        },
        {
          "output_type": "execute_result",
          "data": {
            "text/plain": [
              "[90]"
            ]
          },
          "metadata": {},
          "execution_count": 63
        }
      ]
    },
    {
      "cell_type": "code",
      "source": [
        "print(my_list)\n",
        "my_list[10:20]"
      ],
      "metadata": {
        "id": "eur-oPpotMAt",
        "colab": {
          "base_uri": "https://localhost:8080/"
        },
        "outputId": "9529fba0-ea80-468a-8173-4871022a096a"
      },
      "execution_count": 64,
      "outputs": [
        {
          "output_type": "stream",
          "name": "stdout",
          "text": [
            "[0, 10, 20, 30, 40, 50, 60, 70, 80, 90]\n"
          ]
        },
        {
          "output_type": "execute_result",
          "data": {
            "text/plain": [
              "[]"
            ]
          },
          "metadata": {},
          "execution_count": 64
        }
      ]
    },
    {
      "cell_type": "markdown",
      "source": [
        "But not so with out-of-range **indexes**"
      ],
      "metadata": {
        "id": "bvL47WIQjohf"
      }
    },
    {
      "cell_type": "code",
      "source": [
        "print(my_list)\n",
        "my_list[10]"
      ],
      "metadata": {
        "id": "lHcCTBGetUar",
        "colab": {
          "base_uri": "https://localhost:8080/",
          "height": 176
        },
        "outputId": "4dc092f7-510d-43d8-ddba-2d99225d1a38"
      },
      "execution_count": 65,
      "outputs": [
        {
          "output_type": "stream",
          "name": "stdout",
          "text": [
            "[0, 10, 20, 30, 40, 50, 60, 70, 80, 90]\n"
          ]
        },
        {
          "output_type": "error",
          "ename": "IndexError",
          "evalue": "list index out of range",
          "traceback": [
            "\u001b[0;31m---------------------------------------------------------------------------\u001b[0m",
            "\u001b[0;31mIndexError\u001b[0m                                Traceback (most recent call last)",
            "\u001b[0;32m/tmp/ipython-input-1394185989.py\u001b[0m in \u001b[0;36m<cell line: 0>\u001b[0;34m()\u001b[0m\n\u001b[1;32m      1\u001b[0m \u001b[0mprint\u001b[0m\u001b[0;34m(\u001b[0m\u001b[0mmy_list\u001b[0m\u001b[0;34m)\u001b[0m\u001b[0;34m\u001b[0m\u001b[0;34m\u001b[0m\u001b[0m\n\u001b[0;32m----> 2\u001b[0;31m \u001b[0mmy_list\u001b[0m\u001b[0;34m[\u001b[0m\u001b[0;36m10\u001b[0m\u001b[0;34m]\u001b[0m\u001b[0;34m\u001b[0m\u001b[0;34m\u001b[0m\u001b[0m\n\u001b[0m",
            "\u001b[0;31mIndexError\u001b[0m: list index out of range"
          ]
        }
      ]
    },
    {
      "cell_type": "markdown",
      "source": [
        "Indexing also works with strings"
      ],
      "metadata": {
        "id": "-uB_RwyHCnbf"
      }
    },
    {
      "cell_type": "code",
      "source": [
        "text = 'abcd efghi'\n",
        "print(text)\n",
        "print(text[0:4])\n",
        "print(text[4:7])\n"
      ],
      "metadata": {
        "id": "Wa5znEZ6Crwh",
        "colab": {
          "base_uri": "https://localhost:8080/"
        },
        "outputId": "7507fc20-955f-4698-f3c1-09a11a7b3bfc"
      },
      "execution_count": 66,
      "outputs": [
        {
          "output_type": "stream",
          "name": "stdout",
          "text": [
            "abcd efghi\n",
            "abcd\n",
            " ef\n"
          ]
        }
      ]
    },
    {
      "cell_type": "markdown",
      "source": [
        "### Slice assignment"
      ],
      "metadata": {
        "id": "_f_-9DgIsIVc"
      }
    },
    {
      "cell_type": "markdown",
      "source": [
        "For lists, you can also use slice assignment to change multiple elements at once or even change the size of the list"
      ],
      "metadata": {
        "id": "vega0hV6HJcS"
      }
    },
    {
      "cell_type": "code",
      "source": [
        "my_list  = [0, 10, 20, 30, 40, 50, 60]\n",
        "print(my_list)\n",
        "my_list[1] = 1000\n",
        "my_list"
      ],
      "metadata": {
        "id": "hC_lOTNDsQ-Q",
        "colab": {
          "base_uri": "https://localhost:8080/"
        },
        "outputId": "2a788bf1-e613-4e47-a235-23d1f4668ff3"
      },
      "execution_count": 67,
      "outputs": [
        {
          "output_type": "stream",
          "name": "stdout",
          "text": [
            "[0, 10, 20, 30, 40, 50, 60]\n"
          ]
        },
        {
          "output_type": "execute_result",
          "data": {
            "text/plain": [
              "[0, 1000, 20, 30, 40, 50, 60]"
            ]
          },
          "metadata": {},
          "execution_count": 67
        }
      ]
    },
    {
      "cell_type": "code",
      "source": [
        "\n",
        "my_list[2:5] = [2000, 3000, 4000]\n",
        "my_list"
      ],
      "metadata": {
        "id": "EwkiKUkxt8HS",
        "colab": {
          "base_uri": "https://localhost:8080/"
        },
        "outputId": "92ad6ddb-e0dc-4bfa-8ee0-1aed108149d5"
      },
      "execution_count": 69,
      "outputs": [
        {
          "output_type": "execute_result",
          "data": {
            "text/plain": [
              "[0, 1000, 2000, 3000, 4000, 50, 60]"
            ]
          },
          "metadata": {},
          "execution_count": 69
        }
      ]
    },
    {
      "cell_type": "code",
      "source": [
        "\n",
        "my_list[2:5] = [-1] # elements at index 2, 3, 4 → [20, 30, 40] replace that entire slice with just [-1].\n",
        "my_list"
      ],
      "metadata": {
        "id": "Bq8aHIY3sLmZ",
        "colab": {
          "base_uri": "https://localhost:8080/"
        },
        "outputId": "a3e22f58-4c53-4eec-9d90-08fe14c2d8fb"
      },
      "execution_count": 70,
      "outputs": [
        {
          "output_type": "execute_result",
          "data": {
            "text/plain": [
              "[0, 1000, -1, 50, 60]"
            ]
          },
          "metadata": {},
          "execution_count": 70
        }
      ]
    },
    {
      "cell_type": "markdown",
      "source": [
        "Lists and tuples can store a mixture of elements:"
      ],
      "metadata": {
        "id": "eBW59K8qAZxP"
      }
    },
    {
      "cell_type": "code",
      "source": [
        "a_mixed_list = [my_float, my_text, my_integer, my_tuple, my_range, my_list]\n",
        "print(\"a_mixed_list: \", a_mixed_list)\n",
        "\n",
        "print(\"a_mixed_list[3]: \",a_mixed_list[3])\n",
        "\n",
        "print(\"a_mixed_list[3][1]: \",a_mixed_list[3][1])\n",
        "\n",
        "print(\"a_mixed_list[2:4]: \",a_mixed_list[2:4])"
      ],
      "metadata": {
        "id": "7onlFS7fAb3o",
        "colab": {
          "base_uri": "https://localhost:8080/"
        },
        "outputId": "b18e351e-3ef2-4b63-ca08-8b4f9885c177"
      },
      "execution_count": 71,
      "outputs": [
        {
          "output_type": "stream",
          "name": "stdout",
          "text": [
            "a_mixed_list:  [5.0, 'Hello World!', 5, (1, 2, 3, 4, 5), range(1, 6), [0, 1000, -1, 50, 60]]\n",
            "a_mixed_list[3]:  (1, 2, 3, 4, 5)\n",
            "a_mixed_list[3][1]:  2\n",
            "a_mixed_list[2:4]:  [5, (1, 2, 3, 4, 5)]\n"
          ]
        }
      ]
    },
    {
      "cell_type": "code",
      "source": [
        "another_tuple = (my_float, my_text, my_integer, my_tuple, my_range)\n",
        "another_tuple\n"
      ],
      "metadata": {
        "id": "2lMZHx6m--7m",
        "colab": {
          "base_uri": "https://localhost:8080/"
        },
        "outputId": "4fd3976d-d010-4a08-921e-a478052f4a92"
      },
      "execution_count": 72,
      "outputs": [
        {
          "output_type": "execute_result",
          "data": {
            "text/plain": [
              "(5.0, 'Hello World!', 5, (1, 2, 3, 4, 5), range(1, 6))"
            ]
          },
          "metadata": {},
          "execution_count": 72
        }
      ]
    },
    {
      "cell_type": "markdown",
      "source": [
        "So, What's the difference between tuples and lists? Look:"
      ],
      "metadata": {
        "id": "-ylXSP29CF74"
      }
    },
    {
      "cell_type": "code",
      "source": [
        "my_list  = [0, 10, 20, 30, 40, 50, 60]\n",
        "print(my_list)\n",
        "my_list[1] = 1000\n",
        "my_list"
      ],
      "metadata": {
        "id": "lo3MDoPkrOqm",
        "colab": {
          "base_uri": "https://localhost:8080/"
        },
        "outputId": "f97f5b78-6599-4b78-8ede-888f6fcb4aed"
      },
      "execution_count": 73,
      "outputs": [
        {
          "output_type": "stream",
          "name": "stdout",
          "text": [
            "[0, 10, 20, 30, 40, 50, 60]\n"
          ]
        },
        {
          "output_type": "execute_result",
          "data": {
            "text/plain": [
              "[0, 1000, 20, 30, 40, 50, 60]"
            ]
          },
          "metadata": {},
          "execution_count": 73
        }
      ]
    },
    {
      "cell_type": "code",
      "source": [
        "my_tuple = (0, 10, 20, 30, 40, 50, 60)\n",
        "my_tuple[1] = 1000"
      ],
      "metadata": {
        "id": "vZxTOC5hrTJB",
        "colab": {
          "base_uri": "https://localhost:8080/",
          "height": 158
        },
        "outputId": "a04e3853-5bbf-48e7-a873-e96fd4dc07e1"
      },
      "execution_count": 74,
      "outputs": [
        {
          "output_type": "error",
          "ename": "TypeError",
          "evalue": "'tuple' object does not support item assignment",
          "traceback": [
            "\u001b[0;31m---------------------------------------------------------------------------\u001b[0m",
            "\u001b[0;31mTypeError\u001b[0m                                 Traceback (most recent call last)",
            "\u001b[0;32m/tmp/ipython-input-447506700.py\u001b[0m in \u001b[0;36m<cell line: 0>\u001b[0;34m()\u001b[0m\n\u001b[1;32m      1\u001b[0m \u001b[0mmy_tuple\u001b[0m \u001b[0;34m=\u001b[0m \u001b[0;34m(\u001b[0m\u001b[0;36m0\u001b[0m\u001b[0;34m,\u001b[0m \u001b[0;36m10\u001b[0m\u001b[0;34m,\u001b[0m \u001b[0;36m20\u001b[0m\u001b[0;34m,\u001b[0m \u001b[0;36m30\u001b[0m\u001b[0;34m,\u001b[0m \u001b[0;36m40\u001b[0m\u001b[0;34m,\u001b[0m \u001b[0;36m50\u001b[0m\u001b[0;34m,\u001b[0m \u001b[0;36m60\u001b[0m\u001b[0;34m)\u001b[0m\u001b[0;34m\u001b[0m\u001b[0;34m\u001b[0m\u001b[0m\n\u001b[0;32m----> 2\u001b[0;31m \u001b[0mmy_tuple\u001b[0m\u001b[0;34m[\u001b[0m\u001b[0;36m1\u001b[0m\u001b[0;34m]\u001b[0m \u001b[0;34m=\u001b[0m \u001b[0;36m1000\u001b[0m\u001b[0;34m\u001b[0m\u001b[0;34m\u001b[0m\u001b[0m\n\u001b[0m",
            "\u001b[0;31mTypeError\u001b[0m: 'tuple' object does not support item assignment"
          ]
        }
      ]
    },
    {
      "cell_type": "markdown",
      "source": [
        "Tuples are immutable elements. That is, its content can NOT be changed"
      ],
      "metadata": {
        "id": "xenbv2IKvCLg"
      }
    },
    {
      "cell_type": "markdown",
      "source": [
        "**WARNING:**\n",
        "In general, variable names in python are pointers instead of containers, which means that they don't actually store the data, but points to the bucket where data is stored. As a consequence, if you have two variables pointing to the same bucket (piece of data) and change one of them, the other may change:"
      ],
      "metadata": {
        "id": "hXyHvXAAWZa1"
      }
    },
    {
      "cell_type": "code",
      "source": [
        "x = [0,1,2]\n",
        "y = x\n",
        "x[2] = 999 # Changing only x\n",
        "print('x: ', x)\n",
        "print('y: ', y, 'also changed!')"
      ],
      "metadata": {
        "id": "wNO5LD2_CKWs",
        "colab": {
          "base_uri": "https://localhost:8080/"
        },
        "outputId": "740e5bfe-3473-454a-82a9-8bacc0fbb4f9"
      },
      "execution_count": 75,
      "outputs": [
        {
          "output_type": "stream",
          "name": "stdout",
          "text": [
            "x:  [0, 1, 999]\n",
            "y:  [0, 1, 999] also changed!\n"
          ]
        }
      ]
    },
    {
      "cell_type": "markdown",
      "source": [
        "Note, this some languages are impacted by this, some aren't. For example, in R y would remain [0, 1, 2].\n",
        "\n",
        "Also, with certain data types you don't see this behavior:"
      ],
      "metadata": {
        "id": "X-5-CrvVXmT_"
      }
    },
    {
      "cell_type": "code",
      "source": [
        "x = 1\n",
        "y = x\n",
        "print('x: ', x)\n",
        "print('y: ', y)\n",
        "\n",
        "x = 'Hello world!'\n",
        "\n",
        "print('x: ', x)\n",
        "print(\"y didn't changed:\", y )\n"
      ],
      "metadata": {
        "id": "1mCDspix8JJM"
      },
      "execution_count": null,
      "outputs": []
    },
    {
      "cell_type": "markdown",
      "source": [
        "#C. Mapping Data Type\n",
        "\n",
        "## Dictionaries\n",
        "Unlike lists/tuples (which use numeric indexes), dictionaries let you store and retrieve data using meaningful keys.\n",
        "```python\n",
        "student = {\"name\": \"Alice\", \"age\": 21, \"grade\": \"A\"}\n",
        "print(student[\"name\"])   # Alice\n",
        "```\n",
        "A dictionary is a data structure comprised of `key:value` pairs. Where the *keys* must be unique and replace the sequential index of lists and tuples. *keys* can be *strings* or *numbers*"
      ],
      "metadata": {
        "id": "Nq4NWYa1Ef9_"
      }
    },
    {
      "cell_type": "code",
      "source": [
        "my_dict = {'a': 0, 'b':1, 'c': (10,20), 4:['abc',1], '5':True}\n",
        "print(my_dict)"
      ],
      "metadata": {
        "id": "wDOAJ3-EHGDv",
        "colab": {
          "base_uri": "https://localhost:8080/"
        },
        "outputId": "d6726b59-157c-40a6-ba31-1bd246f67f60"
      },
      "execution_count": 1,
      "outputs": [
        {
          "output_type": "stream",
          "name": "stdout",
          "text": [
            "{'a': 0, 'b': 1, 'c': (10, 20), 4: ['abc', 1], '5': True}\n"
          ]
        }
      ]
    },
    {
      "cell_type": "code",
      "source": [
        "print(\"a: \", my_dict['a'])\n",
        "\n",
        "print(\"b: \", my_dict['b'])\n",
        "\n",
        "print(\"c: \", my_dict['c'])\n",
        "\n",
        "print(\"4: \", my_dict[4])\n",
        "\n",
        "print(\"5: \", my_dict['5'])\n"
      ],
      "metadata": {
        "id": "a5VgjgztHdHy",
        "colab": {
          "base_uri": "https://localhost:8080/"
        },
        "outputId": "9c24fa4c-dc7c-44a0-9f88-916654d761d2"
      },
      "execution_count": 2,
      "outputs": [
        {
          "output_type": "stream",
          "name": "stdout",
          "text": [
            "a:  0\n",
            "b:  1\n",
            "c:  (10, 20)\n",
            "4:  ['abc', 1]\n",
            "5:  True\n"
          ]
        }
      ]
    },
    {
      "cell_type": "code",
      "source": [
        "del my_dict['b']\n",
        "my_dict[6] = 999\n",
        "my_dict"
      ],
      "metadata": {
        "id": "bOuG8AkGItY8",
        "colab": {
          "base_uri": "https://localhost:8080/"
        },
        "outputId": "3b12dc5d-cfe4-40d6-bc8c-5d7638368ff7"
      },
      "execution_count": 3,
      "outputs": [
        {
          "output_type": "execute_result",
          "data": {
            "text/plain": [
              "{'a': 0, 'c': (10, 20), 4: ['abc', 1], '5': True, 6: 999}"
            ]
          },
          "metadata": {},
          "execution_count": 3
        }
      ]
    },
    {
      "cell_type": "markdown",
      "source": [
        "# IV. Basic Operations"
      ],
      "metadata": {
        "id": "oWJ9LRVlZick"
      }
    },
    {
      "cell_type": "markdown",
      "source": [
        "## A. Arithmetic Operations"
      ],
      "metadata": {
        "id": "a7dxLeiIZlxE"
      }
    },
    {
      "cell_type": "markdown",
      "source": [
        "Operator |\tName |\tDescription\n",
        "-----|------|-----\n",
        "a + b |\tAddition |\tSum of `a` and `b`\n",
        "a - b\t| Subtraction\t| Difference of `a` and `b`\n",
        "a * b\t| Multiplication\t| Product of `a` and `b`\n",
        "a / b\t| True division\t| Quotient of `a` and `b`\n",
        "a // b\t| Floor division\t| Quotient of `a` and `b`, removing fractional parts\n",
        "a % b\t| Modulus\t| Integer remainder after division of `a` by `b`\n",
        "a ** b\t| Exponentiation\t| `a` raised to the power of `b`\n",
        "-a\t| Negation\t| The negative of `a`\n",
        "+a\t| Unary plus\t| `a` unchanged (rarely used)"
      ],
      "metadata": {
        "id": "Ho64umn6Zy3q"
      }
    },
    {
      "cell_type": "code",
      "source": [
        "5/3\n"
      ],
      "metadata": {
        "id": "7L-hotNza7bR",
        "colab": {
          "base_uri": "https://localhost:8080/"
        },
        "outputId": "de789edb-fbc7-478b-d988-173859c0094d"
      },
      "execution_count": 4,
      "outputs": [
        {
          "output_type": "execute_result",
          "data": {
            "text/plain": [
              "1.6666666666666667"
            ]
          },
          "metadata": {},
          "execution_count": 4
        }
      ]
    },
    {
      "cell_type": "code",
      "source": [
        "a = 5\n",
        "b = 3\n",
        "a/b"
      ],
      "metadata": {
        "id": "Oa5YP1LybeAI",
        "colab": {
          "base_uri": "https://localhost:8080/"
        },
        "outputId": "6eacc504-a094-4fa9-dc50-693c506aa983"
      },
      "execution_count": 6,
      "outputs": [
        {
          "output_type": "execute_result",
          "data": {
            "text/plain": [
              "1.6666666666666667"
            ]
          },
          "metadata": {},
          "execution_count": 6
        }
      ]
    },
    {
      "cell_type": "code",
      "source": [
        "5//3 # It gives the quotient of the division, but rounded down to the nearest whole number (integer)."
      ],
      "metadata": {
        "id": "FL-Gz33SbnH8",
        "colab": {
          "base_uri": "https://localhost:8080/"
        },
        "outputId": "e5c5013e-17b1-4aa6-eaee-994317362470"
      },
      "execution_count": 5,
      "outputs": [
        {
          "output_type": "execute_result",
          "data": {
            "text/plain": [
              "1"
            ]
          },
          "metadata": {},
          "execution_count": 5
        }
      ]
    },
    {
      "cell_type": "code",
      "source": [
        "5%3 # It gives the remainder after division."
      ],
      "metadata": {
        "id": "QlMcSE3tbqVX",
        "colab": {
          "base_uri": "https://localhost:8080/"
        },
        "outputId": "d9c7cfca-725d-41bd-eca9-44e78712f39b"
      },
      "execution_count": 8,
      "outputs": [
        {
          "output_type": "execute_result",
          "data": {
            "text/plain": [
              "2"
            ]
          },
          "metadata": {},
          "execution_count": 8
        }
      ]
    },
    {
      "cell_type": "code",
      "source": [
        "4**2"
      ],
      "metadata": {
        "id": "iTGETCX6bzQD",
        "colab": {
          "base_uri": "https://localhost:8080/"
        },
        "outputId": "ec34a6b2-143b-4051-8c4b-92e3b1b71d7e"
      },
      "execution_count": 9,
      "outputs": [
        {
          "output_type": "execute_result",
          "data": {
            "text/plain": [
              "16"
            ]
          },
          "metadata": {},
          "execution_count": 9
        }
      ]
    },
    {
      "cell_type": "code",
      "source": [
        "4**-2"
      ],
      "metadata": {
        "id": "HDPegYD7cDzA",
        "colab": {
          "base_uri": "https://localhost:8080/"
        },
        "outputId": "513f661a-14b9-40b7-adea-22608be3bf9f"
      },
      "execution_count": 10,
      "outputs": [
        {
          "output_type": "execute_result",
          "data": {
            "text/plain": [
              "0.0625"
            ]
          },
          "metadata": {},
          "execution_count": 10
        }
      ]
    },
    {
      "cell_type": "code",
      "source": [
        "(2+1)*(4-2)"
      ],
      "metadata": {
        "id": "tfxDjRk_cFpO",
        "colab": {
          "base_uri": "https://localhost:8080/"
        },
        "outputId": "d9e61fef-26d6-41c9-f9af-da08fb773703"
      },
      "execution_count": 11,
      "outputs": [
        {
          "output_type": "execute_result",
          "data": {
            "text/plain": [
              "6"
            ]
          },
          "metadata": {},
          "execution_count": 11
        }
      ]
    },
    {
      "cell_type": "markdown",
      "source": [
        "See how sequential addition operates on sequential elements (note, some of this is unique to python):"
      ],
      "metadata": {
        "id": "64goXUoHAQZ8"
      }
    },
    {
      "cell_type": "code",
      "source": [
        "a = [0,1,2]\n",
        "b = ['a','b','c']\n",
        "print(a + b)\n",
        "print(a*2)"
      ],
      "metadata": {
        "id": "eq-rx8l4cNWK",
        "colab": {
          "base_uri": "https://localhost:8080/"
        },
        "outputId": "8f0c6c8f-4bd2-4122-bac4-7287d297a114"
      },
      "execution_count": 12,
      "outputs": [
        {
          "output_type": "stream",
          "name": "stdout",
          "text": [
            "[0, 1, 2, 'a', 'b', 'c']\n",
            "[0, 1, 2, 0, 1, 2]\n"
          ]
        }
      ]
    },
    {
      "cell_type": "code",
      "source": [
        "a = (0,1,2)\n",
        "b = ('a','b','c')\n",
        "print(a + b)\n",
        "print(a*2)"
      ],
      "metadata": {
        "id": "qJWhA2U9AqBl",
        "colab": {
          "base_uri": "https://localhost:8080/"
        },
        "outputId": "aa0ae70d-1467-41db-fecd-ca03f9c2fd93"
      },
      "execution_count": 13,
      "outputs": [
        {
          "output_type": "stream",
          "name": "stdout",
          "text": [
            "(0, 1, 2, 'a', 'b', 'c')\n",
            "(0, 1, 2, 0, 1, 2)\n"
          ]
        }
      ]
    },
    {
      "cell_type": "code",
      "source": [
        "a = 'Hello'\n",
        "b = 'World'\n",
        "print(a + b)\n",
        "print(a*2)"
      ],
      "metadata": {
        "id": "1Oino3tRBO9m",
        "colab": {
          "base_uri": "https://localhost:8080/"
        },
        "outputId": "039a1e50-18a4-4acc-d97b-39470f3e7911"
      },
      "execution_count": 14,
      "outputs": [
        {
          "output_type": "stream",
          "name": "stdout",
          "text": [
            "HelloWorld\n",
            "HelloHello\n"
          ]
        }
      ]
    },
    {
      "cell_type": "markdown",
      "source": [
        "## B. Comparison Operations\n",
        "\n",
        "Another type of operation which can be very useful is comparison of different values. For this, Python implements standard comparison operators, which return Boolean values `True` and `False`. The comparison operations are listed in the following table:\n",
        "\n",
        "\n",
        "Operation | Description   \n",
        "---------|-------\n",
        " a == b | a equal to b\n",
        "a != b | a not equal to b\n",
        "a < b | a less than b\n",
        "a > b | a greater than b\n",
        "a <= b | a less than or equal to b\n",
        "a >= b | a greater than or equal to b\n",
        "\n",
        "For example, we can check if a number is odd by checking that the modulus with 2 is different from zero:"
      ],
      "metadata": {
        "id": "fqbINnr2d2wU"
      }
    },
    {
      "cell_type": "code",
      "source": [
        "# 25 is odd\n",
        "24 % 2 != 0 % # means “0 is not equal to 0”"
      ],
      "metadata": {
        "id": "ih-o5Oqyd5uq",
        "colab": {
          "base_uri": "https://localhost:8080/"
        },
        "outputId": "ff0c2db4-b036-4164-dcb9-b59399797b40"
      },
      "execution_count": 15,
      "outputs": [
        {
          "output_type": "execute_result",
          "data": {
            "text/plain": [
              "False"
            ]
          },
          "metadata": {},
          "execution_count": 15
        }
      ]
    },
    {
      "cell_type": "code",
      "source": [
        "# check if a is between 15 and 30\n",
        "a = 25\n",
        "15 < a < 30"
      ],
      "metadata": {
        "id": "gblK6UAiejbG",
        "colab": {
          "base_uri": "https://localhost:8080/"
        },
        "outputId": "6c358cdb-0376-4984-85cb-c3a637a5d9c7"
      },
      "execution_count": 16,
      "outputs": [
        {
          "output_type": "execute_result",
          "data": {
            "text/plain": [
              "True"
            ]
          },
          "metadata": {},
          "execution_count": 16
        }
      ]
    },
    {
      "cell_type": "markdown",
      "source": [
        "## Boolean or logical operations\n",
        "\n",
        "Operator      |Description                                   \n",
        "----------------------|-----------------\n",
        "`a and b` | Return `True` when both statements are `True`\n",
        " `a or b`  | Return `True` when either `a` or `b` is `True`\n",
        " `not a`   | Reverse the result, returns False if `a` is true"
      ],
      "metadata": {
        "id": "3AgKR8dKfqoR"
      }
    },
    {
      "cell_type": "code",
      "source": [
        "x = 10\n",
        "y = 20\n",
        "\n",
        "x >= y or x <= 15\n"
      ],
      "metadata": {
        "id": "NqkpLySmfs-0",
        "colab": {
          "base_uri": "https://localhost:8080/"
        },
        "outputId": "e2849363-9af7-419f-e2cd-23778edd64fa"
      },
      "execution_count": 17,
      "outputs": [
        {
          "output_type": "execute_result",
          "data": {
            "text/plain": [
              "True"
            ]
          },
          "metadata": {},
          "execution_count": 17
        }
      ]
    },
    {
      "cell_type": "code",
      "source": [
        "not x < y #Inside comparison- True, Apply not- not True → False"
      ],
      "metadata": {
        "id": "a8K0GPOBO2E4",
        "colab": {
          "base_uri": "https://localhost:8080/"
        },
        "outputId": "6f85c914-1a72-46cd-d7cd-89f0bebabae3"
      },
      "execution_count": 18,
      "outputs": [
        {
          "output_type": "execute_result",
          "data": {
            "text/plain": [
              "False"
            ]
          },
          "metadata": {},
          "execution_count": 18
        }
      ]
    }
  ]
}