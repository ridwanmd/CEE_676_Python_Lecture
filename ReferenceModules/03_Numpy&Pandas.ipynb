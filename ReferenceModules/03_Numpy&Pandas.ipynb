{
  "nbformat": 4,
  "nbformat_minor": 0,
  "metadata": {
    "colab": {
      "provenance": [],
      "include_colab_link": true
    },
    "kernelspec": {
      "name": "python3",
      "display_name": "Python 3"
    },
    "language_info": {
      "name": "python"
    }
  },
  "cells": [
    {
      "cell_type": "markdown",
      "metadata": {
        "id": "view-in-github",
        "colab_type": "text"
      },
      "source": [
        "<a href=\"https://colab.research.google.com/github/ridwanmd/CEE_676_Python_Lecture/blob/main/ReferenceModules/03_Numpy%26Pandas.ipynb\" target=\"_parent\"><img src=\"https://colab.research.google.com/assets/colab-badge.svg\" alt=\"Open In Colab\"/></a>"
      ]
    },
    {
      "cell_type": "markdown",
      "source": [
        "# Numpy\n",
        "Numpy is a library for scientific computing. It provides tools for working with multidimensional arrays (vectors, matrices). The basic data type (`class`) in Numpy is the *Numpy array*\n"
      ],
      "metadata": {
        "id": "Pozg7Afsj-dv"
      }
    },
    {
      "cell_type": "markdown",
      "source": [
        "## array creation\n",
        "scaler value,\n",
        "1D array,\n",
        "2D array,\n",
        "3D array,\n",
        "MultiDimentionsal Array\n",
        "\n",
        "## numpy attibutes\n",
        "First, we will see how to create an array. Let’s take a variable a using np.array, and we want to pass a list, for example [1, 2, 3].\n",
        "\n",
        "np.dtype → gives the data type of the array (e.g., 4 bytes → 4 bytes × 8 = 32 bits).\n",
        "\n",
        "np.shape → gives the shape of the array. For example, [[1, 2, 3], [4, 5, 6]] has 2 rows and 3 columns.\n",
        "\n",
        "ndim → gives the number of dimensions.\n",
        "\n",
        "itemsize → tells how much memory each item in the array consumes. Every element takes the same amount of memory.\n",
        "\n",
        "nbytes → gives the total memory consumed by all the elements in the array.\n",
        "\n",
        "np. zeros, np.ones, np. empty, np.eye, np.diag, np.arrage (start, end, step) np.linespace"
      ],
      "metadata": {
        "id": "jYKIoJ2xewfy"
      }
    },
    {
      "cell_type": "markdown",
      "source": [
        "First you need to import the library:"
      ],
      "metadata": {
        "id": "1bV_bHWgWGoL"
      }
    },
    {
      "cell_type": "code",
      "source": [
        "import numpy as np"
      ],
      "metadata": {
        "id": "CSHJHmmKWF5j"
      },
      "execution_count": 2,
      "outputs": []
    },
    {
      "cell_type": "code",
      "source": [
        "a = np.array([1, 2, 3]) # 1-D / Vector\n",
        "print(a)\n"
      ],
      "metadata": {
        "id": "cwKVzzlAjkmG",
        "colab": {
          "base_uri": "https://localhost:8080/"
        },
        "outputId": "ef756e06-3ff3-4959-bdca-bc192c1a6c1d"
      },
      "execution_count": 4,
      "outputs": [
        {
          "output_type": "stream",
          "name": "stdout",
          "text": [
            "[1 2 3]\n"
          ]
        }
      ]
    },
    {
      "cell_type": "code",
      "source": [
        "# check the type of an array\n",
        "type(a)\n",
        "\n"
      ],
      "metadata": {
        "id": "PWczcLkwZcMI",
        "colab": {
          "base_uri": "https://localhost:8080/"
        },
        "outputId": "6b7e78bb-4f2c-4f12-803c-727710a5c00b"
      },
      "execution_count": 5,
      "outputs": [
        {
          "output_type": "execute_result",
          "data": {
            "text/plain": [
              "numpy.ndarray"
            ]
          },
          "metadata": {},
          "execution_count": 5
        }
      ]
    },
    {
      "cell_type": "code",
      "source": [
        "# shape of the array\n",
        "a.shape"
      ],
      "metadata": {
        "id": "F1PBh6ScZdr9"
      },
      "execution_count": null,
      "outputs": []
    },
    {
      "cell_type": "code",
      "source": [
        "# dimension of the array\n",
        "a.ndim"
      ],
      "metadata": {
        "id": "QJT5SHMIYLza"
      },
      "execution_count": null,
      "outputs": []
    },
    {
      "cell_type": "markdown",
      "source": [
        "We start with a one-dimensional array, or vector. Now we want to create a two-dimensional array. The first row is given, and then the next row is separated by a comma. For example, the second row could be: two, four, six, eight, ten. Together, these rows form a single list or array. This makes it a two-dimensional array."
      ],
      "metadata": {
        "id": "t8KZTYnIgn9L"
      }
    },
    {
      "cell_type": "code",
      "source": [
        "b = np.array([[1, 2, 3],     # 2-D array / Matrix\n",
        "              [4, 5, 6]])\n",
        "b"
      ],
      "metadata": {
        "id": "NcwdGgQWZ5Y9",
        "colab": {
          "base_uri": "https://localhost:8080/"
        },
        "outputId": "271e6627-d45e-44a3-f0aa-1599185dcd0b"
      },
      "execution_count": 6,
      "outputs": [
        {
          "output_type": "execute_result",
          "data": {
            "text/plain": [
              "array([[1, 2, 3],\n",
              "       [4, 5, 6]])"
            ]
          },
          "metadata": {},
          "execution_count": 6
        }
      ]
    },
    {
      "cell_type": "code",
      "source": [
        "type(b)"
      ],
      "metadata": {
        "id": "OJBwB4zPaAJG",
        "colab": {
          "base_uri": "https://localhost:8080/"
        },
        "outputId": "ace08ea0-13eb-4894-8cc1-27ccfcfbf5d5"
      },
      "execution_count": 7,
      "outputs": [
        {
          "output_type": "execute_result",
          "data": {
            "text/plain": [
              "numpy.ndarray"
            ]
          },
          "metadata": {},
          "execution_count": 7
        }
      ]
    },
    {
      "cell_type": "code",
      "source": [
        "b.shape"
      ],
      "metadata": {
        "colab": {
          "base_uri": "https://localhost:8080/"
        },
        "id": "OqLKQZM3gw5k",
        "outputId": "64867f2b-99d6-4ab9-bd7d-626ae8a8095a"
      },
      "execution_count": 8,
      "outputs": [
        {
          "output_type": "execute_result",
          "data": {
            "text/plain": [
              "(2, 3)"
            ]
          },
          "metadata": {},
          "execution_count": 8
        }
      ]
    },
    {
      "cell_type": "code",
      "source": [
        "b.ndim"
      ],
      "metadata": {
        "colab": {
          "base_uri": "https://localhost:8080/"
        },
        "id": "idUfb9msgy-C",
        "outputId": "91718263-5949-4998-8d65-c788441ab2d0"
      },
      "execution_count": 9,
      "outputs": [
        {
          "output_type": "execute_result",
          "data": {
            "text/plain": [
              "2"
            ]
          },
          "metadata": {},
          "execution_count": 9
        }
      ]
    },
    {
      "cell_type": "code",
      "source": [],
      "metadata": {
        "id": "UbEZYDfmg079"
      },
      "execution_count": null,
      "outputs": []
    },
    {
      "cell_type": "markdown",
      "source": [
        "now 3 dimenstional array"
      ],
      "metadata": {
        "id": "8723E2WDclWP"
      }
    },
    {
      "cell_type": "code",
      "source": [
        "# 3-D arrays\n",
        "\n",
        "c = np.array([[[1.0, 2, 3],\n",
        "               [4, 5, 6],\n",
        "               [7, 8, 9]]])\n",
        "\n",
        "d = np.array([[[1, 2, 3],\n",
        "               [4, 5, 6],\n",
        "               [7, 8, 9]],\n",
        "\n",
        "             [[10, 11, 12],\n",
        "              [13, 14, 15],\n",
        "              [16, 17, 18]]])"
      ],
      "metadata": {
        "id": "vDj3SRqHg54T"
      },
      "execution_count": 10,
      "outputs": []
    },
    {
      "cell_type": "markdown",
      "source": [
        "The first one (c) is a single 2D array wrapped inside another bracket, which makes it a 3D array with one plane.\n",
        "\n",
        "The second one (d) contains two 2D arrays, enclosed together. Stacking 2D arrays in this way forms a 3D array.\n",
        "\n",
        "In this case, there are two planes (or “layers”), so you can imagine it like a cube.\n",
        "\n",
        "Although NumPy won’t visually show a cube, conceptually it represents 3D data.\n",
        "\n",
        "In the same way, you can create 4D, 5D, or higher-dimensional arrays by nesting more layers."
      ],
      "metadata": {
        "id": "JjMC8s1XhIGD"
      }
    },
    {
      "cell_type": "code",
      "source": [
        "c.shape, d.shape"
      ],
      "metadata": {
        "colab": {
          "base_uri": "https://localhost:8080/"
        },
        "id": "dkXiS4WVhNua",
        "outputId": "11c6a603-1b79-4e43-a718-9d72988fe7af"
      },
      "execution_count": 13,
      "outputs": [
        {
          "output_type": "execute_result",
          "data": {
            "text/plain": [
              "((1, 3, 3), (2, 3, 3))"
            ]
          },
          "metadata": {},
          "execution_count": 13
        }
      ]
    },
    {
      "cell_type": "code",
      "source": [
        "a.dtype, b.dtype, c.dtype, d.dtype"
      ],
      "metadata": {
        "colab": {
          "base_uri": "https://localhost:8080/"
        },
        "id": "pJjEphqbhPId",
        "outputId": "68cee233-545d-4d41-b164-6cc250ea9861"
      },
      "execution_count": 12,
      "outputs": [
        {
          "output_type": "execute_result",
          "data": {
            "text/plain": [
              "(dtype('int64'), dtype('int64'), dtype('float64'), dtype('int64'))"
            ]
          },
          "metadata": {},
          "execution_count": 12
        }
      ]
    },
    {
      "cell_type": "code",
      "source": [
        "a.size, b.size, c.size, d.size # determine how many elements are there in an array"
      ],
      "metadata": {
        "colab": {
          "base_uri": "https://localhost:8080/"
        },
        "id": "bZBO4xRdhSF9",
        "outputId": "4b766ae2-cd0f-4dd9-8aaa-115ee8d55b98"
      },
      "execution_count": 11,
      "outputs": [
        {
          "output_type": "execute_result",
          "data": {
            "text/plain": [
              "(3, 6, 9, 18)"
            ]
          },
          "metadata": {},
          "execution_count": 11
        }
      ]
    },
    {
      "cell_type": "code",
      "source": [
        "a.nbytes, b.nbytes, c.nbytes, d.nbytes # determine how many bytes consumed by an array"
      ],
      "metadata": {
        "colab": {
          "base_uri": "https://localhost:8080/"
        },
        "id": "gorlWNUAhVBi",
        "outputId": "805e8efb-88a2-464e-e23d-c86471a563f5"
      },
      "execution_count": 14,
      "outputs": [
        {
          "output_type": "execute_result",
          "data": {
            "text/plain": [
              "(24, 48, 72, 144)"
            ]
          },
          "metadata": {},
          "execution_count": 14
        }
      ]
    },
    {
      "cell_type": "markdown",
      "source": [
        "## Array Creation"
      ],
      "metadata": {
        "id": "SAeUBqsyhWs0"
      }
    },
    {
      "cell_type": "markdown",
      "source": [
        "---\n",
        "\n",
        "### Array Creation Functions in NumPy\n",
        "\n",
        "1. **`np.zeros(shape)`**\n",
        "\n",
        "   * Creates an array filled with **zeros**.\n",
        "   * Example:\n",
        "\n",
        "     ```python\n",
        "     np.zeros((2, 3))\n",
        "     # Output: [[0. 0. 0.]\n",
        "     #          [0. 0. 0.]]\n",
        "     ```\n",
        "\n",
        "2. **`np.ones(shape)`**\n",
        "\n",
        "   * Creates an array filled with **ones**.\n",
        "   * Example:\n",
        "\n",
        "     ```python\n",
        "     np.ones((2, 3))\n",
        "     # Output: [[1. 1. 1.]\n",
        "     #          [1. 1. 1.]]\n",
        "     ```\n",
        "\n",
        "3. **`np.empty(shape)`**\n",
        "\n",
        "   * Creates an array with **uninitialized values** (whatever happens to be in memory).\n",
        "   * Faster than `zeros` or `ones`, but values will be random garbage.\n",
        "   * Example:\n",
        "\n",
        "     ```python\n",
        "     np.empty((2, 3))\n",
        "     ```\n",
        "\n",
        "4. **`np.eye(N)`**\n",
        "\n",
        "   * Creates an **identity matrix** (diagonal = 1, rest = 0).\n",
        "   * Example:\n",
        "\n",
        "     ```python\n",
        "     np.eye(3)\n",
        "     # Output:\n",
        "     # [[1. 0. 0.]\n",
        "     #  [0. 1. 0.]\n",
        "     #  [0. 0. 1.]]\n",
        "     ```\n",
        "\n",
        "5. **`np.diag(v)`**\n",
        "\n",
        "   * Creates a diagonal matrix from a list/array.\n",
        "   * Example:\n",
        "\n",
        "     ```python\n",
        "     np.diag([1, 2, 3])\n",
        "     # Output:\n",
        "     # [[1 0 0]\n",
        "     #  [0 2 0]\n",
        "     #  [0 0 3]]\n",
        "     ```\n",
        "\n",
        "6. **`np.arange(start, end, step)`**\n",
        "\n",
        "   * Creates a sequence of numbers from **start** to **end** (exclusive), with a given **step**.\n",
        "   * Example:\n",
        "\n",
        "     ```python\n",
        "     np.arange(0, 10, 2)\n",
        "     # Output: [0 2 4 6 8]\n",
        "     ```\n",
        "\n",
        "7. **`np.linspace(start, end, num)`**\n",
        "\n",
        "   * Creates **evenly spaced numbers** between start and end (inclusive).\n",
        "   * Example:\n",
        "\n",
        "     ```python\n",
        "     np.linspace(0, 1, 5)\n",
        "     # Output: [0.   0.25 0.5  0.75 1. ]\n",
        "     ```\n",
        "\n",
        "---\n"
      ],
      "metadata": {
        "id": "wozWIyEhhRUM"
      }
    },
    {
      "cell_type": "markdown",
      "source": [
        "see the link below for a wider explanation on how to use numpy for linear algebra, fourier analysis, and array manipulation in general.  \n",
        "\n",
        "https://numpy.org/devdocs/user/quickstart.html"
      ],
      "metadata": {
        "id": "8VJrinyNaW7r"
      }
    },
    {
      "cell_type": "markdown",
      "source": [
        "# Pandas\n",
        "\n",
        "Is a library for tabular data manipulation. It is built upon Numpy and provides tools for data science. The basic data types in Pandas are the *Series* and the *DataFrame*"
      ],
      "metadata": {
        "id": "zRn7kLwDby9b"
      }
    },
    {
      "cell_type": "code",
      "source": [
        "import pandas as pd"
      ],
      "metadata": {
        "id": "3SdqlTBSb0yA"
      },
      "execution_count": null,
      "outputs": []
    },
    {
      "cell_type": "markdown",
      "source": [
        "Creating a Series by passing a list of values, letting pandas create a default integer index:"
      ],
      "metadata": {
        "id": "05hhEIdokK6b"
      }
    },
    {
      "cell_type": "markdown",
      "source": [
        "## Series"
      ],
      "metadata": {
        "id": "9-T6jT50lmlP"
      }
    },
    {
      "cell_type": "code",
      "source": [
        "s = pd.Series([1, 3, 5, np.nan, 6, 8])\n",
        "s\n"
      ],
      "metadata": {
        "id": "jUPvi_Ned1D_"
      },
      "execution_count": null,
      "outputs": []
    },
    {
      "cell_type": "code",
      "source": [
        "type(s)"
      ],
      "metadata": {
        "id": "Qe8s2hgTkVlS"
      },
      "execution_count": null,
      "outputs": []
    },
    {
      "cell_type": "markdown",
      "source": [
        "or you can pass your own index:"
      ],
      "metadata": {
        "id": "gRTYxjuckNgD"
      }
    },
    {
      "cell_type": "code",
      "source": [
        "list('abcdef')"
      ],
      "metadata": {
        "id": "R73KXWdiUbqr"
      },
      "execution_count": null,
      "outputs": []
    },
    {
      "cell_type": "code",
      "source": [
        "index = list('abcdef')\n",
        "values = [1, 3, 5, np.nan, 6, 8]\n",
        "s = pd.Series(values, index = index)\n",
        "s"
      ],
      "metadata": {
        "id": "s9qn1ii5a6lc"
      },
      "execution_count": null,
      "outputs": []
    },
    {
      "cell_type": "markdown",
      "source": [
        "Elements can be accessed with its index  "
      ],
      "metadata": {
        "id": "jtt61QsilP9c"
      }
    },
    {
      "cell_type": "code",
      "source": [
        "print(s['a'])\n",
        "\n"
      ],
      "metadata": {
        "id": "RyKh_bKUk7F7"
      },
      "execution_count": null,
      "outputs": []
    },
    {
      "cell_type": "markdown",
      "source": [
        "## DataFrame"
      ],
      "metadata": {
        "id": "nygJQPsylpJ4"
      }
    },
    {
      "cell_type": "markdown",
      "source": [
        "A *DataFrame* is an array of data in tabular form similar to that you can create in Excel:\n",
        "\n",
        "Note, in other languages, such as R, DataFrames are built into the base language and it's not necessary to import a library."
      ],
      "metadata": {
        "id": "2-O8Et5JlyVf"
      }
    },
    {
      "cell_type": "code",
      "source": [
        "l1 = [10,20,30,40]\n",
        "l2 = list('abcd')\n",
        "l3 = [True, False, True, True]\n",
        "\n",
        "d = {'A':l1, 'B':l2, 'C':l3}\n",
        "\n",
        "df = pd.DataFrame(d)\n",
        "\n",
        "df"
      ],
      "metadata": {
        "id": "7grVgz5kj_Xu"
      },
      "execution_count": null,
      "outputs": []
    },
    {
      "cell_type": "code",
      "source": [
        "type(df)"
      ],
      "metadata": {
        "id": "-mjFyOExoCrG"
      },
      "execution_count": null,
      "outputs": []
    },
    {
      "cell_type": "markdown",
      "source": [
        "Accesing the data. For columns you can pass the column name (or a list of them)"
      ],
      "metadata": {
        "id": "gLM96eL5oogx"
      }
    },
    {
      "cell_type": "code",
      "source": [
        "df['A'] # return a Series"
      ],
      "metadata": {
        "id": "Owf8r05_oqL9"
      },
      "execution_count": null,
      "outputs": []
    },
    {
      "cell_type": "code",
      "source": [
        "df[['A','B']] # several columns must be passed as a list"
      ],
      "metadata": {
        "id": "DpNs7moWo9Ua"
      },
      "execution_count": null,
      "outputs": []
    },
    {
      "cell_type": "markdown",
      "source": [
        "If you want to filter certain rows, use the attribute `loc[]`:"
      ],
      "metadata": {
        "id": "8OBDerurpLUt"
      }
    },
    {
      "cell_type": "code",
      "source": [
        "df"
      ],
      "metadata": {
        "id": "OeoJS1xhVi9w"
      },
      "execution_count": null,
      "outputs": []
    },
    {
      "cell_type": "code",
      "source": [
        "df.loc[0]"
      ],
      "metadata": {
        "id": "JCIhgkFLprjj"
      },
      "execution_count": null,
      "outputs": []
    },
    {
      "cell_type": "code",
      "source": [
        "df"
      ],
      "metadata": {
        "id": "mNci0VsEqKnt"
      },
      "execution_count": null,
      "outputs": []
    },
    {
      "cell_type": "code",
      "source": [
        "df.loc[1,'C']"
      ],
      "metadata": {
        "id": "N1nMSuHvqA1n"
      },
      "execution_count": null,
      "outputs": []
    },
    {
      "cell_type": "markdown",
      "source": [
        "Boolean values can also be used:"
      ],
      "metadata": {
        "id": "JqFFa-mHrrg8"
      }
    },
    {
      "cell_type": "code",
      "source": [
        "desired_rows = df['C']\n",
        "\n",
        "df.loc[desired_rows]"
      ],
      "metadata": {
        "id": "Tuiy9ZwOrv4n"
      },
      "execution_count": null,
      "outputs": []
    },
    {
      "cell_type": "markdown",
      "source": [
        "Let' explore some important methods: `groupby` , `resample` and `rolling`\n",
        "\n"
      ],
      "metadata": {
        "id": "l0gQj9FcsMrC"
      }
    },
    {
      "cell_type": "markdown",
      "source": [
        "## groupby"
      ],
      "metadata": {
        "id": "8SlfuW8GsnHo"
      }
    },
    {
      "cell_type": "code",
      "source": [
        "df = pd.DataFrame({'Animal': ['Falcon', 'Falcon',\n",
        "                              'Parrot', 'Parrot'],\n",
        "                   'Max Speed': [380., 370., 24., 26.]})\n",
        "df"
      ],
      "metadata": {
        "id": "8e9R-f8MqWqa"
      },
      "execution_count": null,
      "outputs": []
    },
    {
      "cell_type": "code",
      "source": [
        "dir(df.groupby(['Animal']))"
      ],
      "metadata": {
        "id": "rPqRVLtJWXYL"
      },
      "execution_count": null,
      "outputs": []
    },
    {
      "cell_type": "code",
      "source": [
        "df2 = df.groupby(['Animal']).last()\n",
        "df2"
      ],
      "metadata": {
        "id": "rWSHKeJhsf1z"
      },
      "execution_count": null,
      "outputs": []
    },
    {
      "cell_type": "markdown",
      "source": [
        "Note that the original DataFrame doesn't change:"
      ],
      "metadata": {
        "id": "5WRg_zUYtcXC"
      }
    },
    {
      "cell_type": "code",
      "source": [
        "df"
      ],
      "metadata": {
        "id": "AGgjhECZthyB"
      },
      "execution_count": null,
      "outputs": []
    },
    {
      "cell_type": "markdown",
      "source": [
        "## Resample"
      ],
      "metadata": {
        "id": "Eyo93RCat_9u"
      }
    },
    {
      "cell_type": "code",
      "source": [
        "index = pd.date_range('1/1/2000', periods=9, freq='T')\n",
        "series = pd.Series(range(9), index=index)\n",
        "series"
      ],
      "metadata": {
        "id": "vfVqc6uHuBEC"
      },
      "execution_count": null,
      "outputs": []
    },
    {
      "cell_type": "code",
      "source": [
        "series.resample('3T').sum()"
      ],
      "metadata": {
        "id": "VRmO2NT1xXj7"
      },
      "execution_count": null,
      "outputs": []
    },
    {
      "cell_type": "markdown",
      "source": [
        "To learn more about the offset strings, please see:\n",
        "\n",
        "https://pandas.pydata.org/pandas-docs/stable/user_guide/timeseries.html#dateoffset-objects"
      ],
      "metadata": {
        "id": "Iae3qKZOzCGH"
      }
    },
    {
      "cell_type": "markdown",
      "source": [
        "# rolling"
      ],
      "metadata": {
        "id": "jzPvO21izRU5"
      }
    },
    {
      "cell_type": "code",
      "source": [
        "df = pd.DataFrame({'B': [0, 1, 2, 3, 4]})\n",
        "df"
      ],
      "metadata": {
        "id": "yXBPF7k1zTP-"
      },
      "execution_count": null,
      "outputs": []
    },
    {
      "cell_type": "code",
      "source": [
        "df.rolling(2).sum()"
      ],
      "metadata": {
        "id": "qKRIqoozyldB"
      },
      "execution_count": null,
      "outputs": []
    },
    {
      "cell_type": "code",
      "source": [
        "df.rolling(3, center = True).sum()"
      ],
      "metadata": {
        "id": "2HPfYPDK0p2N"
      },
      "execution_count": null,
      "outputs": []
    }
  ]
}