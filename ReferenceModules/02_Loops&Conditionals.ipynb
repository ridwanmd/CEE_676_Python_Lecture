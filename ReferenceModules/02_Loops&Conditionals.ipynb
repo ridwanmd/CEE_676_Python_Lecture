{
  "nbformat": 4,
  "nbformat_minor": 0,
  "metadata": {
    "colab": {
      "provenance": [],
      "include_colab_link": true
    },
    "kernelspec": {
      "name": "python3",
      "display_name": "Python 3"
    },
    "language_info": {
      "name": "python"
    }
  },
  "cells": [
    {
      "cell_type": "markdown",
      "metadata": {
        "id": "view-in-github",
        "colab_type": "text"
      },
      "source": [
        "<a href=\"https://colab.research.google.com/github/ridwanmd/CEE_676_Python_Lecture/blob/main/ReferenceModules/02_Loops%26Conditionals.ipynb\" target=\"_parent\"><img src=\"https://colab.research.google.com/assets/colab-badge.svg\" alt=\"Open In Colab\"/></a>"
      ]
    },
    {
      "cell_type": "markdown",
      "source": [
        "# Conditional Statements: if-elif-else\n",
        "\n",
        "Execute certain pieces of code depending on some Boolean conditions.\n",
        "\n",
        "\n",
        "```python\n",
        "if condition:\n",
        "    Do something  \n",
        "elif another condition:  \n",
        "    Do this instead  \n",
        "    .  \n",
        "    .  \n",
        "    .  \n",
        "else:  \n",
        "    As no other condition was met, do this\n",
        "\n",
        "```\n",
        "\n",
        "\n",
        "\n",
        "\n",
        "\n",
        "**Important:** Note that a colon (`:`) must be included at the end of every condition and the `Do something lines` are always indented"
      ],
      "metadata": {
        "id": "gJ47p4AiROxs"
      }
    },
    {
      "cell_type": "code",
      "execution_count": null,
      "metadata": {
        "id": "cuISYZGIPzC6"
      },
      "outputs": [],
      "source": [
        "x = -15\n",
        "\n",
        "if x == 0:\n",
        "    print(x, \"is zero\")\n",
        "elif x > 0:\n",
        "    print(x, \"is positive\")\n",
        "elif x < 0:\n",
        "    print(x, \"is negative\")\n",
        "else:\n",
        "    print(x, \"is unlike anything I've ever seen...\")"
      ]
    },
    {
      "cell_type": "markdown",
      "source": [
        "# For loops\n",
        "\n",
        "For loops are used to iterate over a sequence (`list`, `tuple`, `dictionary`, `range`, among others) and execute a set of statements, one for each element in the sequence:  \n",
        "\n",
        "Sintaxis:\n",
        "\n",
        "```python\n",
        "for val in sequence:\n",
        "  Do whatever appears here\n",
        "```\n",
        "\n",
        "**Important:** remember the colon (`:`) and indentation\n"
      ],
      "metadata": {
        "id": "0DH1CMWcaGJ0"
      }
    },
    {
      "cell_type": "code",
      "source": [
        "# raise every number in a list to the power of 2\n",
        "x_list = [0, 1, 2, 3, 4, 5, 6, 7, 8, 9, 10]\n",
        "\n",
        "for x in x_list:\n",
        "  print(x**2)\n"
      ],
      "metadata": {
        "id": "GEZhjgnhaztv"
      },
      "execution_count": null,
      "outputs": []
    },
    {
      "cell_type": "code",
      "source": [
        "# filter even numbers\n",
        "x_list = [0, 1, 2, 3, 4, 5, 6, 7, 8, 9, 10]\n",
        "\n",
        "for number in x_list:  # loop through each number in the list\n",
        "  if number % 2 == 0: # check if the number is divisible by 2\n",
        "    print(number)  # if yes, print it\n",
        "\n"
      ],
      "metadata": {
        "id": "3ZdBsGyMcTQP"
      },
      "execution_count": null,
      "outputs": []
    },
    {
      "cell_type": "markdown",
      "source": [
        "The use of a `range` is common in loops:"
      ],
      "metadata": {
        "id": "74aLymePgpim"
      }
    },
    {
      "cell_type": "code",
      "source": [
        "for val in range(11): # generates numbers from 0 to 10\n",
        "  if val % 2 ==0:  # check if divisible by 2\n",
        "    print(val)  # print even numbers"
      ],
      "metadata": {
        "id": "nCrfyodIguPB"
      },
      "execution_count": null,
      "outputs": []
    },
    {
      "cell_type": "markdown",
      "source": [
        "# While Loops\n",
        "\n",
        "`While` loops are similar to `For` loops, but in this case, the statements are excecuted until an specific condition is met:  \n",
        "\n",
        "Sintaxis:\n",
        "\n",
        "```python\n",
        "while condition:\n",
        "  Do whatever appears here  \n",
        "\n",
        "```\n",
        "\n"
      ],
      "metadata": {
        "id": "_aJVGHslfYbA"
      }
    },
    {
      "cell_type": "markdown",
      "source": [
        "Determine the number of times a number must be divided by 2 so the result is less than 1."
      ],
      "metadata": {
        "id": "druesbVDiXqZ"
      }
    },
    {
      "cell_type": "code",
      "source": [
        "number = 1000           # creates a variable called number and stores the value 1000 in it.\n",
        "counts = 0              # creates another variable called counts and stores the value 0\n",
        "while number >=1:        # loop will keep running as long as number is greater than or equal to 1.\n",
        "  number = number / 2  # Do you remember how else can this line be written?  # perform one division\n",
        "                       # This takes the current value of number, divides it by 2, and stores the result back into number.\n",
        "                       # Example: first time → 1000 / 2 = 500, so now number = 500. Next loop → 500 / 2 = 250, and so on.\n",
        "  counts = counts + 1  # This increases counts by 1 each time the loop runs.\n",
        "                       # First loop → counts = 0 + 1 = 1.Second loop → counts = 1 + 1 = 2.\n",
        "                       # This way, it counts how many divisions we’ve done.  # record that one division happened\n",
        "\n",
        "print('Number of divisions required: ', counts)\n",
        "print('Final number: ', number)"
      ],
      "metadata": {
        "id": "HpL2Nl7Pfgpk"
      },
      "execution_count": null,
      "outputs": []
    },
    {
      "cell_type": "markdown",
      "source": [
        "**How to choose between `For` and `while` loops?**  \n",
        "In general, we should use for-loops when the number of iterations to be performed is well-defined. Conversely, we should use while-loops statements when the number of iterations to be performed is indefinite or not well known."
      ],
      "metadata": {
        "id": "Oj98O6ZelGhn"
      }
    },
    {
      "cell_type": "markdown",
      "source": [
        "# Functions"
      ],
      "metadata": {
        "id": "po1DL4vqo_k1"
      }
    },
    {
      "cell_type": "markdown",
      "source": [
        "Functions are extremely useful for code modularization."
      ],
      "metadata": {
        "id": "rdSLV8Kwl8DL"
      }
    },
    {
      "cell_type": "code",
      "source": [
        "def my_func(x, y):\n",
        "  z = x/y\n",
        "  return z"
      ],
      "metadata": {
        "id": "szhCQGHMpDZR"
      },
      "execution_count": null,
      "outputs": []
    },
    {
      "cell_type": "code",
      "source": [
        "def my_func(x, y):\n",
        "    if y == 0:\n",
        "        return \"Error: Division by zero is not allowed\"\n",
        "    return x / y\n"
      ],
      "metadata": {
        "id": "IrIFXkLHszOX"
      },
      "execution_count": null,
      "outputs": []
    },
    {
      "cell_type": "code",
      "source": [
        "my_func(4,2)"
      ],
      "metadata": {
        "id": "9Kj9yCkLZoxM"
      },
      "execution_count": null,
      "outputs": []
    },
    {
      "cell_type": "markdown",
      "source": [
        "# Python basic built-in functions"
      ],
      "metadata": {
        "id": "zuhorRXal2Eb"
      }
    },
    {
      "cell_type": "markdown",
      "source": [
        "Python has a set of built-in functions. Here are **some** of them:  \n",
        "\n",
        "Function | Description\n",
        "---------|------------\n",
        "abs() |\tReturns the absolute value of a number\n",
        "all()\t| Returns True if all items in an iterable object are true\n",
        "any()\t| Returns True if any item in an iterable object is true\n",
        "bool() |\tReturns the boolean value of the specified object\n",
        "enumerate() |\tTakes a collection (e.g. a tuple) and returns it as an enumerate object\n",
        "eval() |\tEvaluates and executes an expression\n",
        "float() |\tReturns a floating point number\n",
        "input() |\tAllowing user input\n",
        "int()\t| Returns an integer number\n",
        "len()\t| Returns the length of an object\n",
        "list()\t| Returns a list\n",
        "print()\t| Prints to the standard output device\n",
        "range()\t| Returns a sequence of numbers, starting from 0 and increments by 1 (by default)\n",
        "round()\t| Rounds a numbers\n",
        "sorted()\t| Returns a sorted list\n",
        "str()\t| Returns a string object\n",
        "sum()\t| Sums the items of an iterator\n",
        "tuple()\t| Returns a tuple\n",
        "type()\t| Returns the type of an object\n",
        "zip()\t| Returns an iterator, from two or more iterators"
      ],
      "metadata": {
        "id": "dHtPLyjZmTcu"
      }
    },
    {
      "cell_type": "code",
      "source": [
        "a = str(5)\n",
        "print(a)\n",
        "type(a)"
      ],
      "metadata": {
        "id": "SjdQquw4XnVr"
      },
      "execution_count": null,
      "outputs": []
    },
    {
      "cell_type": "code",
      "source": [
        "sorted([3,4,2,1,5]) # , it sorts in ascending order (smallest → largest)."
      ],
      "metadata": {
        "id": "ybi0rKUDXxSB"
      },
      "execution_count": null,
      "outputs": []
    },
    {
      "cell_type": "markdown",
      "source": [
        "enumerate(l) produces pairs in this order:\n",
        "```python\n",
        "(index, element)\n",
        "```\n",
        "index = the position (0, 1, 2, …)\n",
        "\n",
        "element = the actual value from the list\n",
        "``` python\n",
        "l = ['a', 'b', 'c']\n",
        "list(enumerate(l))\n",
        "[(0, 'a'), (1, 'b'), (2, 'c')]\n",
        "\n",
        "```\n",
        "So every item from enumerate(l) looks like:\n",
        "```python\n",
        "(0, 'a')\n",
        "(1, 'b')\n",
        "(2, 'c')\n",
        "```\n",
        "\n"
      ],
      "metadata": {
        "id": "x7xCdiA90TsY"
      }
    },
    {
      "cell_type": "code",
      "source": [
        "l = list(range(10))            # [0,1,2,3,4,5,6,7,8,9]\n",
        "output = [0]*len(l)            # [0,0,0,0,0,0,0,0,0,0]\n",
        "for index, element in enumerate(l):\n",
        "  output[index] = element**2\n",
        "output"
      ],
      "metadata": {
        "id": "mybnKNFNweD3"
      },
      "execution_count": null,
      "outputs": []
    },
    {
      "cell_type": "markdown",
      "source": [
        "First iteration: index = 0, element = 0\n",
        "``` python\n",
        "→ output[0] = 0**2 = 0\n",
        "→ output = [0,0,0,0,0,0,0,0,0,0]\n",
        "Second iteration: index = 1, element = 1\n",
        "→ output[1] = 1**2 = 1\n",
        "→ output = [0,1,0,0,0,0,0,0,0,0]\n",
        "\n",
        "Third iteration: index = 2, element = 2\n",
        "→ output[2] = 2**2 = 4\n",
        "→ output = [0,1,4,0,0,0,0,0,0,0]\n",
        "\n",
        "...\n",
        "\n",
        "Last iteration: index = 9, element = 9\n",
        "→ output[9] = 9**2 = 81\n",
        "→ output = [0,1,4,9,16,25,36,49,64,81]\n",
        "```"
      ],
      "metadata": {
        "id": "kgFAAGIk1E2Q"
      }
    },
    {
      "cell_type": "markdown",
      "source": [
        "# Exercises"
      ],
      "metadata": {
        "id": "7JDb4hlfo4_X"
      }
    },
    {
      "cell_type": "markdown",
      "source": [
        "## Problem 1\n",
        "Write a function my_max(x) to return the maximum (largest) value in x. Don’t use the built-in Python function max."
      ],
      "metadata": {
        "id": "O6_UcQV4o708"
      }
    },
    {
      "cell_type": "code",
      "source": [
        "def my_max(x):\n",
        "    \"\"\"\n",
        "    Returns the maximum (largest) value in the iterable x.\n",
        "    Does not use the built-in Python max() function.\n",
        "\n",
        "    Args:\n",
        "        x: An iterable (e.g., list, tuple) containing comparable elements.\n",
        "\n",
        "    Returns:\n",
        "        The largest value in x.\n",
        "\n",
        "    Raises:\n",
        "        ValueError: If the iterable x is empty.\n",
        "    \"\"\"\n",
        "    if not x:\n",
        "        raise ValueError(\"my_max() arg is an empty sequence\")\n",
        "\n",
        "    # Initialize current_max with the first element of the iterable\n",
        "    current_max = x[0]\n",
        "\n",
        "    # Iterate through the rest of the elements\n",
        "    for item in x[1:]:\n",
        "        if item > current_max:\n",
        "            current_max = item\n",
        "\n",
        "    return current_max\n",
        "\n",
        "# Example usage:\n",
        "my_list = [10, 4, 20, 15, 7]\n",
        "largest_value = my_max(my_list)\n",
        "print(f\"The largest value in {my_list} is: {largest_value}\")\n",
        "\n",
        "my_tuple = (5, 9, 2, 12, 1)\n",
        "largest_value_tuple = my_max(my_tuple)\n",
        "print(f\"The largest value in {my_tuple} is: {largest_value_tuple}\")\n",
        "\n",
        "# Example with an empty list (will raise a ValueError)\n",
        "try:\n",
        "    my_empty_list = []\n",
        "    my_max(my_empty_list)\n",
        "except ValueError as e:\n",
        "    print(f\"Error: {e}\")"
      ],
      "metadata": {
        "id": "IXaHWk-3mtrN"
      },
      "execution_count": null,
      "outputs": []
    },
    {
      "cell_type": "markdown",
      "source": [
        "## Problem 2\n",
        "Let array_a be an array [-1, 0, 1, 2, 0, 3]. Write a command that will return an array consisting of all the elements of array_a that are larger than zero. Hint: Use logical expression as the index of the array."
      ],
      "metadata": {
        "id": "oUSS1cmdmukD"
      }
    },
    {
      "cell_type": "code",
      "source": [],
      "metadata": {
        "id": "AYZQAjWUmwyC"
      },
      "execution_count": null,
      "outputs": []
    }
  ]
}